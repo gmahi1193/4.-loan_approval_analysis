{
 "cells": [
  {
   "cell_type": "markdown",
   "metadata": {},
   "source": [
    "## Problem Statement\n",
    "\n",
    "Dream Housing Finance Inc. specializes in home loans across different market segments - rural, urban and semi-urban.  Thier loan eligibility process is based on customer details provided while filling an online application form. To create a targeted marketing campaign for different segments, they have asked for a comprehensive analysis of the data collected so far.\n",
    "\n",
    "## About the Dataset\n",
    "The dataset has details of 614 customers with the following 13 features\n",
    "\n",
    "|Feature|Description|\n",
    "|-----|-----|\n",
    "|Loan_ID|Unique Loan ID|\n",
    "|Gender|Male/Female|\n",
    "|Married|Applicant Married (Y/N)|\n",
    "|Dependents|Number of dependents|\n",
    "|Education|Graduate/Under Graduate|\n",
    "|Self_Employed|Self employed (Y/N)|\n",
    "|ApplicantIncome|Income of the applicant|\n",
    "|CoapplicantIncome|Income of the co-applicant|\n",
    "|LoanAmount|Loan amount in thousands|\n",
    "|Loan_Amount_Term|Term of loan in months|\n",
    "|Credit_History|credit history meets guidelines}|\n",
    "|Property_Area| Urban/Semi-Urban/Rural|\n",
    "|Loan_Status|Loan approved (Y/N)|\n",
    "\n",
    "\n",
    "\n",
    "Our major work for this project involves data analysis using Pandas. \n",
    "\n",
    "## Why solve this project ?\n",
    "\n",
    "After completing this project, you will have better grip on working with pandas. In this project you will apply following concepts.\n",
    "\n",
    " \n",
    "- Dataframe slicing \n",
    "- Dataframe aggregation \n",
    "- Pivot table operations"
   ]
  },
  {
   "cell_type": "code",
   "execution_count": 4,
   "metadata": {},
   "outputs": [],
   "source": [
    "# Import packages\n",
    "import numpy as np\n",
    "import pandas as pd\n",
    "from scipy.stats import mode \n"
   ]
  },
  {
   "cell_type": "markdown",
   "metadata": {},
   "source": [
    "## Task 1\n",
    "**Let's check which variable is categorical and which one is numerical so that you will get a basic idea about the features of the bank dataset.**\n",
    "\n",
    "#### Instructions :\n",
    "\n",
    "- Create dataframe `bank` by passing the `path` of the file\n",
    "\n",
    "\n",
    "- Create the variable `'categorical_var'` and using `'df.select_dtypes(include = 'object')'` check all categorical values.  \n",
    "\n",
    "\n",
    "- print `'categorical_var'`\n",
    "\n",
    "\n",
    "- Create the variable `'numerical_var'` and using `'df.select_dtypes(include = 'number')'` check all categorical values.\n",
    "\n",
    "\n",
    "- print `'numerical_var'`"
   ]
  },
  {
   "cell_type": "code",
   "execution_count": 5,
   "metadata": {},
   "outputs": [
    {
     "name": "stdout",
     "output_type": "stream",
     "text": [
      "      Loan_ID  Gender Married Dependents     Education Self_Employed  \\\n",
      "0    LP001002    Male      No          0      Graduate            No   \n",
      "1    LP001003    Male     Yes          1      Graduate            No   \n",
      "2    LP001005    Male     Yes          0      Graduate           Yes   \n",
      "3    LP001006    Male     Yes          0  Not Graduate            No   \n",
      "4    LP001008    Male      No          0      Graduate            No   \n",
      "..        ...     ...     ...        ...           ...           ...   \n",
      "609  LP002978  Female      No          0      Graduate            No   \n",
      "610  LP002979    Male     Yes         3+      Graduate            No   \n",
      "611  LP002983    Male     Yes          1      Graduate            No   \n",
      "612  LP002984    Male     Yes          2      Graduate            No   \n",
      "613  LP002990  Female      No          0      Graduate           Yes   \n",
      "\n",
      "    Property_Area Loan_Status  \n",
      "0           Urban           Y  \n",
      "1           Rural           N  \n",
      "2           Urban           Y  \n",
      "3           Urban           Y  \n",
      "4           Urban           Y  \n",
      "..            ...         ...  \n",
      "609         Rural           Y  \n",
      "610         Rural           Y  \n",
      "611         Urban           Y  \n",
      "612         Urban           Y  \n",
      "613     Semiurban           N  \n",
      "\n",
      "[614 rows x 8 columns]\n",
      "     ApplicantIncome  CoapplicantIncome  LoanAmount  Loan_Amount_Term  \\\n",
      "0               5849                0.0         NaN             360.0   \n",
      "1               4583             1508.0       128.0             360.0   \n",
      "2               3000                0.0        66.0             360.0   \n",
      "3               2583             2358.0       120.0             360.0   \n",
      "4               6000                0.0       141.0             360.0   \n",
      "..               ...                ...         ...               ...   \n",
      "609             2900                0.0        71.0             360.0   \n",
      "610             4106                0.0        40.0             180.0   \n",
      "611             8072              240.0       253.0             360.0   \n",
      "612             7583                0.0       187.0             360.0   \n",
      "613             4583                0.0       133.0             360.0   \n",
      "\n",
      "     Credit_History  \n",
      "0               1.0  \n",
      "1               1.0  \n",
      "2               1.0  \n",
      "3               1.0  \n",
      "4               1.0  \n",
      "..              ...  \n",
      "609             1.0  \n",
      "610             1.0  \n",
      "611             1.0  \n",
      "612             1.0  \n",
      "613             0.0  \n",
      "\n",
      "[614 rows x 5 columns]\n",
      "['ApplicantIncome', 'CoapplicantIncome', 'LoanAmount', 'Loan_Amount_Term', 'Credit_History']\n"
     ]
    }
   ],
   "source": [
    "# define dataframe\n",
    "# bank = pd.read_csv('C:/Users/vidhi/Downloads/Basecamp/Day_4_loan_approval_analysis/data/data.csv')\n",
    "bank = pd.read_csv('../data/data.csv')\n",
    "\n",
    "#take out all categorical column\n",
    "categorical_var = bank.select_dtypes(include = 'object')\n",
    "print(categorical_var)\n",
    "\n",
    "#take out all numerical column\n",
    "numerical_var = bank.select_dtypes(include = 'number')\n",
    "print(numerical_var)\n",
    "\n",
    "# to convert this directly in list\n",
    "\n",
    "numerical_var_list = bank.select_dtypes(include = 'number').columns.tolist()\n",
    "print(numerical_var_list)"
   ]
  },
  {
   "cell_type": "markdown",
   "metadata": {},
   "source": [
    "## Task 2\n",
    "\n",
    "**Sometimes customers forget to fill in all the details or they don't want to share other details. Because of that, some of the fields in the dataset will have missing values. Now you have to check which columns have missing values and also check the count of missing values each column has. If you get the columns that have missing values, try to fill them.**\n",
    "\n",
    "\n",
    "#### Instructions :\n",
    "\n",
    "- From the dataframe `bank`, drop the column `Loan_ID` to create a new dataframe `banks`\n",
    "\n",
    "- To see the null values, use `\"isnull().sum()\"` function and print it.\n",
    "\n",
    "- Calculate `mode` for the dataframe `banks` and store in `bank_mode`\n",
    "\n",
    "- Fill missing(NaN) values of `banks` with `bank_mode` and store the cleaned dataframe back in `banks`. \n",
    "\n",
    "-  Check if all the missing values `(NaN)` are filled."
   ]
  },
  {
   "cell_type": "code",
   "execution_count": 6,
   "metadata": {},
   "outputs": [
    {
     "data": {
      "text/plain": [
       "Gender               0\n",
       "Married              0\n",
       "Dependents           0\n",
       "Education            0\n",
       "Self_Employed        0\n",
       "ApplicantIncome      0\n",
       "CoapplicantIncome    0\n",
       "LoanAmount           0\n",
       "Loan_Amount_Term     0\n",
       "Credit_History       0\n",
       "Property_Area        0\n",
       "Loan_Status          0\n",
       "dtype: int64"
      ]
     },
     "execution_count": 6,
     "metadata": {},
     "output_type": "execute_result"
    }
   ],
   "source": [
    "#drop the column\n",
    "banks = bank.drop(columns=['Loan_ID'])\n",
    "banks.head()\n",
    "\n",
    "#Check the null value\n",
    "banks.isnull().sum()\n",
    "\n",
    "#Mode of dataframe\n",
    "bank_mode = banks.mode().iloc[0]\n",
    "type(bank_mode)\n",
    "\n",
    "#fill missing values\n",
    "banks = banks.fillna(bank_mode)\n",
    "\n",
    "#check null values\n",
    "banks.isnull().sum()"
   ]
  },
  {
   "cell_type": "markdown",
   "metadata": {},
   "source": [
    "## Task 3\n",
    "\n",
    "**Now let's check the loan amount of an average person based on  `'Gender', 'Married', 'Self_Employed' `.  This will give a basic idea of the average loan amount of a person.**\n",
    "\n",
    "\n",
    "#### Instructions :\n",
    "\n",
    "- We will use previously created dataframe `banks` for this task.\n",
    "- Generate a pivot table with index as `'Gender', 'Married', 'Self_Employed'` and values as `'LoanAmount'`,  using `mean aggregation`\n",
    "\n",
    "\n",
    "- Store the result in a variable called `'avg_loan_amount'`\n",
    "\n",
    "\n"
   ]
  },
  {
   "cell_type": "code",
   "execution_count": 11,
   "metadata": {},
   "outputs": [
    {
     "data": {
      "text/html": [
       "<div>\n",
       "<style scoped>\n",
       "    .dataframe tbody tr th:only-of-type {\n",
       "        vertical-align: middle;\n",
       "    }\n",
       "\n",
       "    .dataframe tbody tr th {\n",
       "        vertical-align: top;\n",
       "    }\n",
       "\n",
       "    .dataframe thead th {\n",
       "        text-align: right;\n",
       "    }\n",
       "</style>\n",
       "<table border=\"1\" class=\"dataframe\">\n",
       "  <thead>\n",
       "    <tr style=\"text-align: right;\">\n",
       "      <th></th>\n",
       "      <th>Self_Employed</th>\n",
       "      <th>No</th>\n",
       "      <th>Yes</th>\n",
       "    </tr>\n",
       "    <tr>\n",
       "      <th>Gender</th>\n",
       "      <th>Married</th>\n",
       "      <th></th>\n",
       "      <th></th>\n",
       "    </tr>\n",
       "  </thead>\n",
       "  <tbody>\n",
       "    <tr>\n",
       "      <th rowspan=\"2\" valign=\"top\">Female</th>\n",
       "      <th>No</th>\n",
       "      <td>114.768116</td>\n",
       "      <td>125.272727</td>\n",
       "    </tr>\n",
       "    <tr>\n",
       "      <th>Yes</th>\n",
       "      <td>133.714286</td>\n",
       "      <td>282.250000</td>\n",
       "    </tr>\n",
       "    <tr>\n",
       "      <th rowspan=\"2\" valign=\"top\">Male</th>\n",
       "      <th>No</th>\n",
       "      <td>129.508621</td>\n",
       "      <td>180.588235</td>\n",
       "    </tr>\n",
       "    <tr>\n",
       "      <th>Yes</th>\n",
       "      <td>152.608150</td>\n",
       "      <td>167.420000</td>\n",
       "    </tr>\n",
       "  </tbody>\n",
       "</table>\n",
       "</div>"
      ],
      "text/plain": [
       "Self_Employed           No         Yes\n",
       "Gender Married                        \n",
       "Female No       114.768116  125.272727\n",
       "       Yes      133.714286  282.250000\n",
       "Male   No       129.508621  180.588235\n",
       "       Yes      152.608150  167.420000"
      ]
     },
     "execution_count": 11,
     "metadata": {},
     "output_type": "execute_result"
    }
   ],
   "source": [
    "avg_loan_amount = pd.pivot_table(data = banks, index = ['Gender', 'Married'], values = 'LoanAmount',columns = ['Self_Employed'], aggfunc = np.mean)\n",
    "avg_loan_amount"
   ]
  },
  {
   "cell_type": "markdown",
   "metadata": {},
   "source": [
    "## Task 4\n",
    "\n",
    "**Now let's check the percentage of loan approved based on a person's employment type.**\n",
    "\n",
    "\n",
    "#### Instructions:\n",
    "\n",
    "- We will use the previously created dataframe `banks` for this task.\n",
    "\n",
    "- Create variable `'loan_approved_se'` and store the count of results where `Self_Employed` == `Yes ` and `Loan_Status` == `Y`.\n",
    "\n",
    "- Create variable `'loan_approved_nse'` and store the count of results where `Self_Employed` == `No ` and `Loan_Status` == `Y`.\n",
    "\n",
    "- `Loan_Status` count is given as `614`.\n",
    "\n",
    "- Calculate the percentage of loan approval for self-employed people and store result in variable `'percentage_se'`. \n",
    "\n",
    "- Calculate the percentage of loan approval for people who are not self-employed and store the result in variable `'percentage_nse'`.\n",
    "\n"
   ]
  },
  {
   "cell_type": "code",
   "execution_count": 40,
   "metadata": {},
   "outputs": [
    {
     "name": "stdout",
     "output_type": "stream",
     "text": [
      "Loan_Status    56\n",
      "dtype: int64\n",
      "Loan_Status    366\n",
      "dtype: int64\n",
      "Loan_Status    9.120521\n",
      "dtype: float64\n",
      "Loan_Status    59.609121\n",
      "dtype: float64\n"
     ]
    }
   ],
   "source": [
    "# calculate for loan status\n",
    "loan_approved_se = banks.loc[(banks['Self_Employed'] == 'Yes') & (banks['Loan_Status'] == 'Y'),['Loan_Status']].count()\n",
    "# loan_approved_se = banks[(banks['Self_Employed'] == 'Yes') & (banks['Loan_Status'] == 'Y')]['Loan_Status'].count()\n",
    "print(loan_approved_se)\n",
    "\n",
    "loan_approved_nse = banks.loc[(banks['Self_Employed'] == 'No') & (banks['Loan_Status'] == 'Y'),['Loan_Status']].count()\n",
    "print(loan_approved_nse)\n",
    "\n",
    "# Calculate percentage\n",
    "\n",
    "percentage_se = loan_approved_se/614*100\n",
    "print(percentage_se)\n",
    "\n",
    "percentage_nse = loan_approved_nse/614*100\n",
    "print(percentage_nse)"
   ]
  },
  {
   "cell_type": "markdown",
   "metadata": {},
   "source": [
    "## Task 5\n",
    "\n",
    "**A government audit is happening real soon! So the company wants to find out those applicants with long loan amount term.**  \n",
    "\n",
    "#### Instructions:\n",
    "\n",
    "- Use `\"apply()\"` function to convert `Loan_Amount_Term`  which is in months to a year and store the result in a variable `'loan_term'`.\n",
    "\n",
    "- Find the number of applicants having loan amount term greater than or equal to 25 years and store them in a variable called `'big_loan_term'`.\n",
    "\n"
   ]
  },
  {
   "cell_type": "code",
   "execution_count": 58,
   "metadata": {},
   "outputs": [
    {
     "name": "stdout",
     "output_type": "stream",
     "text": [
      "554\n"
     ]
    }
   ],
   "source": [
    "loan_term = banks['Loan_Amount_Term'].apply(lambda x:x/12)\n",
    "big_loan_term = len(loan_term.loc[loan_term>=25])\n",
    "print(big_loan_term)"
   ]
  },
  {
   "cell_type": "markdown",
   "metadata": {},
   "source": [
    "## Task 6\n",
    "\n",
    "**Now let's check the average income of an applicant and the average loan given to a person based on their income.**\n",
    "\n",
    "\n",
    "#### Instructions :\n",
    "\n",
    "- Groupby the `'banks'` dataframe by `Loan_Status` and store the result in a variable called `'loan_groupby'`\n",
    "\n",
    "- Subset `'loan_groupby'` to include only  `['ApplicantIncome', 'Credit_History']` and store the subsetted dataframe back in `'loan_groupby'`\n",
    "\n",
    "- Then find the `mean` of `'loan_groupby'` and store the result in a new variable `'mean_values'`\n",
    "\n",
    "\n"
   ]
  },
  {
   "cell_type": "code",
   "execution_count": 64,
   "metadata": {},
   "outputs": [
    {
     "data": {
      "text/html": [
       "<div>\n",
       "<style scoped>\n",
       "    .dataframe tbody tr th:only-of-type {\n",
       "        vertical-align: middle;\n",
       "    }\n",
       "\n",
       "    .dataframe tbody tr th {\n",
       "        vertical-align: top;\n",
       "    }\n",
       "\n",
       "    .dataframe thead th {\n",
       "        text-align: right;\n",
       "    }\n",
       "</style>\n",
       "<table border=\"1\" class=\"dataframe\">\n",
       "  <thead>\n",
       "    <tr style=\"text-align: right;\">\n",
       "      <th></th>\n",
       "      <th>ApplicantIncome</th>\n",
       "      <th>Credit_History</th>\n",
       "    </tr>\n",
       "    <tr>\n",
       "      <th>Loan_Status</th>\n",
       "      <th></th>\n",
       "      <th></th>\n",
       "    </tr>\n",
       "  </thead>\n",
       "  <tbody>\n",
       "    <tr>\n",
       "      <th>N</th>\n",
       "      <td>5446.078125</td>\n",
       "      <td>0.572917</td>\n",
       "    </tr>\n",
       "    <tr>\n",
       "      <th>Y</th>\n",
       "      <td>5384.068720</td>\n",
       "      <td>0.983412</td>\n",
       "    </tr>\n",
       "  </tbody>\n",
       "</table>\n",
       "</div>"
      ],
      "text/plain": [
       "             ApplicantIncome  Credit_History\n",
       "Loan_Status                                 \n",
       "N                5446.078125        0.572917\n",
       "Y                5384.068720        0.983412"
      ]
     },
     "execution_count": 64,
     "metadata": {},
     "output_type": "execute_result"
    }
   ],
   "source": [
    "loan_groupby = banks.groupby('Loan_Status')[['ApplicantIncome', 'Credit_History']].agg(np.mean)\n",
    "loan_groupby"
   ]
  },
  {
   "cell_type": "markdown",
   "metadata": {},
   "source": []
  }
 ],
 "metadata": {
  "kernelspec": {
   "display_name": "Python 3 (ipykernel)",
   "language": "python",
   "name": "python3"
  },
  "language_info": {
   "codemirror_mode": {
    "name": "ipython",
    "version": 3
   },
   "file_extension": ".py",
   "mimetype": "text/x-python",
   "name": "python",
   "nbconvert_exporter": "python",
   "pygments_lexer": "ipython3",
   "version": "3.8.12"
  }
 },
 "nbformat": 4,
 "nbformat_minor": 4
}
